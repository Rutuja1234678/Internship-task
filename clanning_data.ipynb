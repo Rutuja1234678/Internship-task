{
 "cells": [
  {
   "cell_type": "code",
   "execution_count": 2,
   "id": "015c8ba4-7114-4749-993a-6c5d8268ed35",
   "metadata": {},
   "outputs": [],
   "source": [
    "#import libraris\n",
    "import pandas as pd\n",
    "import numpy as np\n",
    "import seaborn as sns\n",
    "import matplotlib.pyplot as plt\n"
   ]
  },
  {
   "cell_type": "code",
   "execution_count": 12,
   "id": "d91661d9-8afe-47eb-b5b2-05638e0bea29",
   "metadata": {},
   "outputs": [
    {
     "data": {
      "text/html": [
       "<div>\n",
       "<style scoped>\n",
       "    .dataframe tbody tr th:only-of-type {\n",
       "        vertical-align: middle;\n",
       "    }\n",
       "\n",
       "    .dataframe tbody tr th {\n",
       "        vertical-align: top;\n",
       "    }\n",
       "\n",
       "    .dataframe thead th {\n",
       "        text-align: right;\n",
       "    }\n",
       "</style>\n",
       "<table border=\"1\" class=\"dataframe\">\n",
       "  <thead>\n",
       "    <tr style=\"text-align: right;\">\n",
       "      <th></th>\n",
       "      <th>Name</th>\n",
       "      <th>Age</th>\n",
       "      <th>Gender</th>\n",
       "      <th>Email</th>\n",
       "      <th>Join_Date</th>\n",
       "      <th>Salary</th>\n",
       "      <th>Department</th>\n",
       "    </tr>\n",
       "  </thead>\n",
       "  <tbody>\n",
       "    <tr>\n",
       "      <th>0</th>\n",
       "      <td>Alice</td>\n",
       "      <td>NaN</td>\n",
       "      <td>NaN</td>\n",
       "      <td>user0@example.com</td>\n",
       "      <td>2021-05-21</td>\n",
       "      <td>NaN</td>\n",
       "      <td>Admin</td>\n",
       "    </tr>\n",
       "    <tr>\n",
       "      <th>1</th>\n",
       "      <td>Bob</td>\n",
       "      <td>40</td>\n",
       "      <td>M</td>\n",
       "      <td>user1@example.com</td>\n",
       "      <td>NaN</td>\n",
       "      <td>50000</td>\n",
       "      <td>Engineering</td>\n",
       "    </tr>\n",
       "    <tr>\n",
       "      <th>2</th>\n",
       "      <td>Charlie</td>\n",
       "      <td>unknown</td>\n",
       "      <td>Male</td>\n",
       "      <td>user2@example.com</td>\n",
       "      <td>2020/01/01</td>\n",
       "      <td>50000</td>\n",
       "      <td>HR</td>\n",
       "    </tr>\n",
       "    <tr>\n",
       "      <th>3</th>\n",
       "      <td>David</td>\n",
       "      <td>NaN</td>\n",
       "      <td>NaN</td>\n",
       "      <td>user3@example.com</td>\n",
       "      <td>2021-05-21</td>\n",
       "      <td>70000</td>\n",
       "      <td>Admin</td>\n",
       "    </tr>\n",
       "    <tr>\n",
       "      <th>4</th>\n",
       "      <td>Eva</td>\n",
       "      <td>35</td>\n",
       "      <td>Other</td>\n",
       "      <td>user4@example.com</td>\n",
       "      <td>July 4, 2020</td>\n",
       "      <td>70000</td>\n",
       "      <td>Engineering</td>\n",
       "    </tr>\n",
       "    <tr>\n",
       "      <th>5</th>\n",
       "      <td>Frank</td>\n",
       "      <td>unknown</td>\n",
       "      <td>Other</td>\n",
       "      <td>user5@example.com</td>\n",
       "      <td>NaN</td>\n",
       "      <td>70000</td>\n",
       "      <td>Admin</td>\n",
       "    </tr>\n",
       "    <tr>\n",
       "      <th>6</th>\n",
       "      <td>Grace</td>\n",
       "      <td>unknown</td>\n",
       "      <td>Female</td>\n",
       "      <td>user6@example.com</td>\n",
       "      <td>July 4, 2020</td>\n",
       "      <td>80000</td>\n",
       "      <td>Engineering</td>\n",
       "    </tr>\n",
       "    <tr>\n",
       "      <th>7</th>\n",
       "      <td>Hannah</td>\n",
       "      <td>NaN</td>\n",
       "      <td>Other</td>\n",
       "      <td>user7@example.com</td>\n",
       "      <td>2021-05-21</td>\n",
       "      <td>NaN</td>\n",
       "      <td>HR</td>\n",
       "    </tr>\n",
       "    <tr>\n",
       "      <th>8</th>\n",
       "      <td>Ivy</td>\n",
       "      <td>30</td>\n",
       "      <td>Female</td>\n",
       "      <td>user8@example.com</td>\n",
       "      <td>NaN</td>\n",
       "      <td>50000</td>\n",
       "      <td>Engineering</td>\n",
       "    </tr>\n",
       "    <tr>\n",
       "      <th>9</th>\n",
       "      <td>Jack</td>\n",
       "      <td>35</td>\n",
       "      <td>Male</td>\n",
       "      <td>user9@example.com</td>\n",
       "      <td>2020/01/01</td>\n",
       "      <td>80000</td>\n",
       "      <td>Engineering</td>\n",
       "    </tr>\n",
       "  </tbody>\n",
       "</table>\n",
       "</div>"
      ],
      "text/plain": [
       "      Name      Age  Gender              Email     Join_Date Salary  \\\n",
       "0    Alice      NaN     NaN  user0@example.com    2021-05-21    NaN   \n",
       "1      Bob       40       M  user1@example.com           NaN  50000   \n",
       "2  Charlie  unknown    Male  user2@example.com    2020/01/01  50000   \n",
       "3    David      NaN     NaN  user3@example.com    2021-05-21  70000   \n",
       "4      Eva       35   Other  user4@example.com  July 4, 2020  70000   \n",
       "5    Frank  unknown   Other  user5@example.com           NaN  70000   \n",
       "6    Grace  unknown  Female  user6@example.com  July 4, 2020  80000   \n",
       "7   Hannah      NaN   Other  user7@example.com    2021-05-21    NaN   \n",
       "8      Ivy       30  Female  user8@example.com           NaN  50000   \n",
       "9     Jack       35    Male  user9@example.com    2020/01/01  80000   \n",
       "\n",
       "    Department  \n",
       "0        Admin  \n",
       "1  Engineering  \n",
       "2           HR  \n",
       "3        Admin  \n",
       "4  Engineering  \n",
       "5        Admin  \n",
       "6  Engineering  \n",
       "7           HR  \n",
       "8  Engineering  \n",
       "9  Engineering  "
      ]
     },
     "execution_count": 12,
     "metadata": {},
     "output_type": "execute_result"
    }
   ],
   "source": [
    "# import file\n",
    "ds=pd.read_csv(\"raw_messy_dataset.csv\")\n",
    "ds.head(10)"
   ]
  },
  {
   "cell_type": "code",
   "execution_count": 7,
   "id": "654f060f-84df-4822-b9db-1c13e9d6f577",
   "metadata": {},
   "outputs": [
    {
     "name": "stdout",
     "output_type": "stream",
     "text": [
      "<class 'pandas.core.frame.DataFrame'>\n",
      "RangeIndex: 105 entries, 0 to 104\n",
      "Data columns (total 7 columns):\n",
      " #   Column      Non-Null Count  Dtype \n",
      "---  ------      --------------  ----- \n",
      " 0   Name        105 non-null    object\n",
      " 1   Age         72 non-null     object\n",
      " 2   Gender      89 non-null     object\n",
      " 3   Email       95 non-null     object\n",
      " 4   Join_Date   70 non-null     object\n",
      " 5   Salary      78 non-null     object\n",
      " 6   Department  89 non-null     object\n",
      "dtypes: object(7)\n",
      "memory usage: 5.9+ KB\n"
     ]
    }
   ],
   "source": [
    "ds.info()"
   ]
  },
  {
   "cell_type": "code",
   "execution_count": 9,
   "id": "8441c912-e3ee-4a67-be46-484e5d7a4d82",
   "metadata": {},
   "outputs": [
    {
     "data": {
      "text/html": [
       "<div>\n",
       "<style scoped>\n",
       "    .dataframe tbody tr th:only-of-type {\n",
       "        vertical-align: middle;\n",
       "    }\n",
       "\n",
       "    .dataframe tbody tr th {\n",
       "        vertical-align: top;\n",
       "    }\n",
       "\n",
       "    .dataframe thead th {\n",
       "        text-align: right;\n",
       "    }\n",
       "</style>\n",
       "<table border=\"1\" class=\"dataframe\">\n",
       "  <thead>\n",
       "    <tr style=\"text-align: right;\">\n",
       "      <th></th>\n",
       "      <th>Name</th>\n",
       "      <th>Age</th>\n",
       "      <th>Gender</th>\n",
       "      <th>Email</th>\n",
       "      <th>Join_Date</th>\n",
       "      <th>Salary</th>\n",
       "      <th>Department</th>\n",
       "    </tr>\n",
       "  </thead>\n",
       "  <tbody>\n",
       "    <tr>\n",
       "      <th>count</th>\n",
       "      <td>105</td>\n",
       "      <td>72</td>\n",
       "      <td>89</td>\n",
       "      <td>95</td>\n",
       "      <td>70</td>\n",
       "      <td>78</td>\n",
       "      <td>89</td>\n",
       "    </tr>\n",
       "    <tr>\n",
       "      <th>unique</th>\n",
       "      <td>10</td>\n",
       "      <td>5</td>\n",
       "      <td>5</td>\n",
       "      <td>90</td>\n",
       "      <td>4</td>\n",
       "      <td>5</td>\n",
       "      <td>5</td>\n",
       "    </tr>\n",
       "    <tr>\n",
       "      <th>top</th>\n",
       "      <td>Alice</td>\n",
       "      <td>40</td>\n",
       "      <td>Male</td>\n",
       "      <td>user0@example.com</td>\n",
       "      <td>2021-05-21</td>\n",
       "      <td>50000</td>\n",
       "      <td>Engineering</td>\n",
       "    </tr>\n",
       "    <tr>\n",
       "      <th>freq</th>\n",
       "      <td>11</td>\n",
       "      <td>22</td>\n",
       "      <td>22</td>\n",
       "      <td>2</td>\n",
       "      <td>26</td>\n",
       "      <td>22</td>\n",
       "      <td>26</td>\n",
       "    </tr>\n",
       "  </tbody>\n",
       "</table>\n",
       "</div>"
      ],
      "text/plain": [
       "         Name Age Gender              Email   Join_Date Salary   Department\n",
       "count     105  72     89                 95          70     78           89\n",
       "unique     10   5      5                 90           4      5            5\n",
       "top     Alice  40   Male  user0@example.com  2021-05-21  50000  Engineering\n",
       "freq       11  22     22                  2          26     22           26"
      ]
     },
     "execution_count": 9,
     "metadata": {},
     "output_type": "execute_result"
    }
   ],
   "source": [
    "ds.describe()"
   ]
  },
  {
   "cell_type": "code",
   "execution_count": 14,
   "id": "6f7da68b-a31f-463e-b08a-e6e27eebea4b",
   "metadata": {},
   "outputs": [
    {
     "data": {
      "text/plain": [
       "0"
      ]
     },
     "execution_count": 14,
     "metadata": {},
     "output_type": "execute_result"
    }
   ],
   "source": [
    "# searching for duplicates\n",
    "\n",
    "ds.duplicated().sum()"
   ]
  },
  {
   "cell_type": "code",
   "execution_count": 13,
   "id": "0b11207e-d73d-478b-b0ad-30ca80b54107",
   "metadata": {},
   "outputs": [],
   "source": [
    "#remove diplicates\n",
    "\n",
    "ds.drop_duplicates(inplace=True)"
   ]
  },
  {
   "cell_type": "code",
   "execution_count": 15,
   "id": "df5e56a1-e1f3-46ee-809d-173d913a3484",
   "metadata": {},
   "outputs": [
    {
     "data": {
      "text/plain": [
       "Index(['Name', 'Age', 'Gender', 'Email', 'Join_Date', 'Salary', 'Department'], dtype='object')"
      ]
     },
     "execution_count": 15,
     "metadata": {},
     "output_type": "execute_result"
    }
   ],
   "source": [
    "# cheak headers\n",
    "ds.columns"
   ]
  },
  {
   "cell_type": "code",
   "execution_count": 17,
   "id": "a6effdaa-2374-413f-88ff-0f2ec9e4db17",
   "metadata": {},
   "outputs": [],
   "source": [
    "# Handling age\n",
    "ds[\"Age\"]=pd.to_numeric(ds[\"Age\"],errors='coerce')"
   ]
  },
  {
   "cell_type": "code",
   "execution_count": 18,
   "id": "590294f9-868f-4539-bf95-d670026594b8",
   "metadata": {},
   "outputs": [
    {
     "name": "stdout",
     "output_type": "stream",
     "text": [
      "<class 'pandas.core.frame.DataFrame'>\n",
      "Index: 100 entries, 0 to 99\n",
      "Data columns (total 7 columns):\n",
      " #   Column      Non-Null Count  Dtype  \n",
      "---  ------      --------------  -----  \n",
      " 0   Name        100 non-null    object \n",
      " 1   Age         57 non-null     float64\n",
      " 2   Gender      86 non-null     object \n",
      " 3   Email       90 non-null     object \n",
      " 4   Join_Date   66 non-null     object \n",
      " 5   Salary      74 non-null     object \n",
      " 6   Department  84 non-null     object \n",
      "dtypes: float64(1), object(6)\n",
      "memory usage: 6.2+ KB\n"
     ]
    }
   ],
   "source": [
    "ds.info()"
   ]
  },
  {
   "cell_type": "code",
   "execution_count": 22,
   "id": "1a4dbac5-cf66-4f17-abdd-00aed48bdd19",
   "metadata": {},
   "outputs": [
    {
     "name": "stderr",
     "output_type": "stream",
     "text": [
      "C:\\Users\\rutuj\\AppData\\Local\\Temp\\ipykernel_8540\\4230202996.py:2: FutureWarning: A value is trying to be set on a copy of a DataFrame or Series through chained assignment using an inplace method.\n",
      "The behavior will change in pandas 3.0. This inplace method will never work because the intermediate object on which we are setting values always behaves as a copy.\n",
      "\n",
      "For example, when doing 'df[col].method(value, inplace=True)', try using 'df.method({col: value}, inplace=True)' or df[col] = df[col].method(value) instead, to perform the operation inplace on the original object.\n",
      "\n",
      "\n",
      "  ds[\"Age\"].fillna(x,inplace=True)\n"
     ]
    }
   ],
   "source": [
    "# filling missing values in \n",
    "\n",
    "x=ds[\"Age\"].median()\n",
    "ds[\"Age\"].fillna(x,inplace=True)"
   ]
  },
  {
   "cell_type": "code",
   "execution_count": 23,
   "id": "d1c1acf6-4310-479e-a0b8-4df05d92caef",
   "metadata": {},
   "outputs": [
    {
     "data": {
      "text/plain": [
       "array([35., 40., 30., 25.])"
      ]
     },
     "execution_count": 23,
     "metadata": {},
     "output_type": "execute_result"
    }
   ],
   "source": [
    "ds[\"Age\"].unique()"
   ]
  },
  {
   "cell_type": "code",
   "execution_count": 25,
   "id": "fd209ccb-1dde-4107-81bf-e24f6b39091d",
   "metadata": {},
   "outputs": [
    {
     "data": {
      "text/plain": [
       "array([nan, 'M', 'Male', 'Other', 'Female', 'F'], dtype=object)"
      ]
     },
     "execution_count": 25,
     "metadata": {},
     "output_type": "execute_result"
    }
   ],
   "source": [
    "ds[\"Gender\"].unique()"
   ]
  },
  {
   "cell_type": "code",
   "execution_count": 27,
   "id": "9f904765-3b92-4a92-83db-2d02a5c1b260",
   "metadata": {},
   "outputs": [],
   "source": [
    "# standerized gender column\n",
    "\n",
    "ds[\"Gender\"]=ds[\"Gender\"].replace({\n",
    "    \"M\":\"Male\",\"F\":\"Female\",\"\":\"None\",\n",
    "})\n"
   ]
  },
  {
   "cell_type": "code",
   "execution_count": 28,
   "id": "080d61ee-a844-4a42-a68f-66899247fde9",
   "metadata": {},
   "outputs": [
    {
     "name": "stderr",
     "output_type": "stream",
     "text": [
      "C:\\Users\\rutuj\\AppData\\Local\\Temp\\ipykernel_8540\\268839230.py:1: FutureWarning: A value is trying to be set on a copy of a DataFrame or Series through chained assignment using an inplace method.\n",
      "The behavior will change in pandas 3.0. This inplace method will never work because the intermediate object on which we are setting values always behaves as a copy.\n",
      "\n",
      "For example, when doing 'df[col].method(value, inplace=True)', try using 'df.method({col: value}, inplace=True)' or df[col] = df[col].method(value) instead, to perform the operation inplace on the original object.\n",
      "\n",
      "\n",
      "  ds[\"Email\"].fillna(\"-\",inplace=True)\n"
     ]
    }
   ],
   "source": [
    "#handling email column\n",
    "\n",
    "ds[\"Email\"].fillna(\"-\",inplace=True)"
   ]
  },
  {
   "cell_type": "code",
   "execution_count": 29,
   "id": "0a730578-6193-4ca6-bd0d-8e6587b63eff",
   "metadata": {},
   "outputs": [
    {
     "name": "stdout",
     "output_type": "stream",
     "text": [
      "       Name   Age  Gender               Email     Join_Date   Salary   Department\n",
      "0     Alice  35.0     NaN   user0@example.com    2021-05-21      NaN        Admin\n",
      "1       Bob  40.0    Male   user1@example.com           NaN    50000  Engineering\n",
      "2   Charlie  35.0    Male   user2@example.com    2020/01/01    50000           HR\n",
      "3     David  35.0     NaN   user3@example.com    2021-05-21    70000        Admin\n",
      "4       Eva  35.0   Other   user4@example.com  July 4, 2020    70000  Engineering\n",
      "5     Frank  35.0   Other   user5@example.com           NaN    70000        Admin\n",
      "6     Grace  35.0  Female   user6@example.com  July 4, 2020    80000  Engineering\n",
      "7    Hannah  35.0   Other   user7@example.com    2021-05-21      NaN           HR\n",
      "8       Ivy  30.0  Female   user8@example.com           NaN    50000  Engineering\n",
      "9      Jack  35.0    Male   user9@example.com    2020/01/01    80000  Engineering\n",
      "10    Alice  35.0    Male  user10@example.com    2021-05-21    70000  Engineering\n",
      "11      Bob  35.0    Male  user11@example.com  July 4, 2020    50000        Sales\n",
      "12  Charlie  35.0    Male  user12@example.com    22-06-2022    80000        Sales\n",
      "13    David  35.0   Other  user13@example.com           NaN      NaN        Sales\n",
      "14      Eva  40.0    Male  user14@example.com  July 4, 2020    80000           HR\n",
      "15    Frank  35.0   Other  user15@example.com           NaN      NaN        Admin\n",
      "16    Grace  35.0   Other  user16@example.com    2021-05-21    70000          NaN\n",
      "17   Hannah  35.0    Male  user17@example.com           NaN      NaN  Engineering\n",
      "18      Ivy  30.0    Male  user18@example.com    2021-05-21    50000  Engineering\n",
      "19     Jack  40.0    Male  user19@example.com           NaN    70000           HR\n",
      "20    Alice  35.0    Male  user20@example.com    2021-05-21    50000  Engineering\n",
      "21      Bob  35.0    Male  user21@example.com    22-06-2022  unknown        Sales\n",
      "22  Charlie  30.0  Female  user22@example.com           NaN    60000          NaN\n",
      "23    David  40.0  Female  user23@example.com           NaN      NaN    Marketing\n",
      "24      Eva  35.0    Male  user24@example.com           NaN    60000  Engineering\n",
      "25    Frank  25.0  Female  user25@example.com    22-06-2022    60000        Sales\n",
      "26    Grace  40.0  Female  user26@example.com  July 4, 2020      NaN    Marketing\n",
      "27   Hannah  30.0    Male  user27@example.com    2021-05-21    70000          NaN\n",
      "28      Ivy  35.0  Female  user28@example.com    2020/01/01  unknown    Marketing\n",
      "29     Jack  35.0   Other  user29@example.com    2021-05-21    50000        Sales\n",
      "30    Alice  40.0  Female  user30@example.com    2021-05-21    80000        Admin\n",
      "31      Bob  25.0  Female  user31@example.com  July 4, 2020    50000        Admin\n",
      "32  Charlie  25.0    Male  user32@example.com    2021-05-21    80000    Marketing\n",
      "33    David  35.0    Male  user33@example.com    22-06-2022    50000           HR\n",
      "34      Eva  35.0    Male  user34@example.com    22-06-2022      NaN    Marketing\n",
      "35    Frank  35.0    Male  user35@example.com           NaN  unknown  Engineering\n",
      "36    Grace  30.0  Female  user36@example.com           NaN    80000  Engineering\n",
      "37   Hannah  40.0    Male  user37@example.com    2020/01/01      NaN        Admin\n",
      "38      Ivy  40.0     NaN  user38@example.com    2021-05-21    70000           HR\n",
      "39     Jack  35.0   Other  user39@example.com    2021-05-21    50000        Sales\n",
      "40    Alice  35.0  Female  user40@example.com  July 4, 2020    50000  Engineering\n",
      "41      Bob  35.0    Male  user41@example.com           NaN    80000        Admin\n",
      "42  Charlie  35.0     NaN  user42@example.com    22-06-2022    70000          NaN\n",
      "43    David  35.0  Female  user43@example.com    2020/01/01    70000        Admin\n",
      "44      Eva  35.0  Female  user44@example.com           NaN      NaN  Engineering\n",
      "45    Frank  40.0    Male  user45@example.com    22-06-2022      NaN  Engineering\n",
      "46    Grace  35.0  Female  user46@example.com           NaN      NaN        Admin\n",
      "47   Hannah  40.0   Other  user47@example.com           NaN      NaN        Sales\n",
      "48      Ivy  25.0     NaN  user48@example.com  July 4, 2020      NaN    Marketing\n",
      "49     Jack  35.0  Female  user49@example.com  July 4, 2020      NaN  Engineering\n",
      "50    Alice  35.0    Male  user50@example.com    2021-05-21      NaN        Admin\n",
      "51      Bob  35.0   Other  user51@example.com           NaN  unknown        Admin\n",
      "52  Charlie  35.0  Female  user52@example.com    2020/01/01    70000           HR\n",
      "53    David  35.0     NaN  user53@example.com           NaN      NaN    Marketing\n",
      "54      Eva  25.0  Female  user54@example.com    22-06-2022    70000          NaN\n",
      "55    Frank  35.0    Male  user55@example.com           NaN    70000        Sales\n",
      "56    Grace  30.0  Female  user56@example.com           NaN    60000          NaN\n",
      "57   Hannah  40.0  Female  user57@example.com  July 4, 2020  unknown    Marketing\n",
      "58      Ivy  25.0    Male  user58@example.com    2021-05-21      NaN    Marketing\n",
      "59     Jack  40.0   Other  user59@example.com    2021-05-21    50000    Marketing\n",
      "60    Alice  35.0  Female  user60@example.com           NaN    80000          NaN\n",
      "61      Bob  30.0    Male  user61@example.com  July 4, 2020      NaN    Marketing\n",
      "62  Charlie  30.0    Male  user62@example.com           NaN    50000        Admin\n",
      "63    David  25.0   Other  user63@example.com    2020/01/01  unknown          NaN\n",
      "64      Eva  30.0    Male  user64@example.com  July 4, 2020    80000    Marketing\n",
      "65    Frank  35.0     NaN  user65@example.com           NaN  unknown        Admin\n",
      "66    Grace  30.0   Other  user66@example.com           NaN    70000           HR\n",
      "67   Hannah  40.0   Other  user67@example.com  July 4, 2020    80000    Marketing\n",
      "68      Ivy  40.0  Female  user68@example.com           NaN    70000          NaN\n",
      "69     Jack  35.0   Other  user69@example.com  July 4, 2020    50000  Engineering\n",
      "70    Alice  40.0    Male  user70@example.com    22-06-2022    50000    Marketing\n",
      "71      Bob  35.0   Other  user71@example.com  July 4, 2020    80000  Engineering\n",
      "72  Charlie  40.0  Female  user72@example.com  July 4, 2020    80000        Admin\n",
      "73    David  35.0  Female  user73@example.com           NaN      NaN           HR\n",
      "74      Eva  35.0     NaN  user74@example.com           NaN  unknown        Sales\n",
      "75    Frank  35.0    Male  user75@example.com    2021-05-21      NaN           HR\n",
      "76    Grace  35.0  Female  user76@example.com    2021-05-21  unknown    Marketing\n",
      "77   Hannah  25.0  Female  user77@example.com    22-06-2022      NaN  Engineering\n",
      "78      Ivy  40.0   Other  user78@example.com    2021-05-21    70000  Engineering\n",
      "79     Jack  30.0     NaN  user79@example.com  July 4, 2020    80000          NaN\n",
      "80    Alice  40.0    Male  user80@example.com           NaN    50000  Engineering\n",
      "81      Bob  30.0   Other  user81@example.com    2021-05-21  unknown          NaN\n",
      "82  Charlie  35.0     NaN  user82@example.com    2021-05-21  unknown        Admin\n",
      "83    David  35.0    Male  user83@example.com    22-06-2022    50000        Sales\n",
      "84      Eva  35.0    Male  user84@example.com           NaN      NaN    Marketing\n",
      "85    Frank  30.0    Male  user85@example.com    22-06-2022  unknown          NaN\n",
      "86    Grace  40.0    Male  user86@example.com  July 4, 2020      NaN        Sales\n",
      "87   Hannah  35.0    Male  user87@example.com           NaN    70000  Engineering\n",
      "88      Ivy  35.0     NaN  user88@example.com    22-06-2022    80000  Engineering\n",
      "89     Jack  35.0     NaN  user89@example.com    2021-05-21    50000        Sales\n",
      "90    Alice  30.0  Female                   -           NaN    80000  Engineering\n",
      "91      Bob  30.0  Female                   -           NaN      NaN        Admin\n",
      "92  Charlie  40.0    Male                   -    2021-05-21  unknown        Admin\n",
      "93    David  30.0    Male                   -    22-06-2022  unknown        Sales\n",
      "94      Eva  30.0     NaN                   -    2021-05-21      NaN          NaN\n",
      "95    Frank  35.0    Male                   -           NaN    50000          NaN\n",
      "96    Grace  40.0    Male                   -           NaN    70000        Sales\n",
      "97   Hannah  35.0    Male                   -    2020/01/01    60000          NaN\n",
      "98      Ivy  35.0  Female                   -    2020/01/01    50000          NaN\n",
      "99     Jack  35.0     NaN                   -  July 4, 2020    60000        Admin\n"
     ]
    }
   ],
   "source": [
    "print(ds.to_string())\n"
   ]
  },
  {
   "cell_type": "code",
   "execution_count": 30,
   "id": "e42b46cc-68f9-4426-9b69-4ebd3cd14c9c",
   "metadata": {},
   "outputs": [
    {
     "name": "stdout",
     "output_type": "stream",
     "text": [
      "<class 'pandas.core.frame.DataFrame'>\n",
      "Index: 100 entries, 0 to 99\n",
      "Data columns (total 7 columns):\n",
      " #   Column      Non-Null Count  Dtype  \n",
      "---  ------      --------------  -----  \n",
      " 0   Name        100 non-null    object \n",
      " 1   Age         100 non-null    float64\n",
      " 2   Gender      86 non-null     object \n",
      " 3   Email       100 non-null    object \n",
      " 4   Join_Date   66 non-null     object \n",
      " 5   Salary      74 non-null     object \n",
      " 6   Department  84 non-null     object \n",
      "dtypes: float64(1), object(6)\n",
      "memory usage: 6.2+ KB\n"
     ]
    }
   ],
   "source": [
    "ds.info()"
   ]
  },
  {
   "cell_type": "code",
   "execution_count": 32,
   "id": "ab3ab700-3eb5-4a2c-9faf-3f471c8c5b1f",
   "metadata": {},
   "outputs": [],
   "source": [
    "# convert to datetime formate\n",
    "\n",
    "ds[\"Join_Date\"]=pd.to_datetime(ds[\"Join_Date\"],errors='coerce')"
   ]
  },
  {
   "cell_type": "code",
   "execution_count": 33,
   "id": "c3345415-66cd-44df-b2e4-60d8fe4df53c",
   "metadata": {},
   "outputs": [
    {
     "name": "stdout",
     "output_type": "stream",
     "text": [
      "<class 'pandas.core.frame.DataFrame'>\n",
      "Index: 100 entries, 0 to 99\n",
      "Data columns (total 7 columns):\n",
      " #   Column      Non-Null Count  Dtype         \n",
      "---  ------      --------------  -----         \n",
      " 0   Name        100 non-null    object        \n",
      " 1   Age         100 non-null    float64       \n",
      " 2   Gender      86 non-null     object        \n",
      " 3   Email       100 non-null    object        \n",
      " 4   Join_Date   24 non-null     datetime64[ns]\n",
      " 5   Salary      74 non-null     object        \n",
      " 6   Department  84 non-null     object        \n",
      "dtypes: datetime64[ns](1), float64(1), object(5)\n",
      "memory usage: 6.2+ KB\n"
     ]
    }
   ],
   "source": [
    "ds.info()"
   ]
  },
  {
   "cell_type": "code",
   "execution_count": 34,
   "id": "0d9874ca-98c3-4eaa-97bf-d958700802b7",
   "metadata": {},
   "outputs": [],
   "source": [
    "#Handling salary column\n",
    "\n",
    "ds[\"Salary\"]=pd.to_numeric(ds[\"Salary\"],errors='coerce')"
   ]
  },
  {
   "cell_type": "code",
   "execution_count": 35,
   "id": "0bbec0b7-6228-4795-a9d3-6391222cc0ee",
   "metadata": {},
   "outputs": [
    {
     "name": "stdout",
     "output_type": "stream",
     "text": [
      "<class 'pandas.core.frame.DataFrame'>\n",
      "Index: 100 entries, 0 to 99\n",
      "Data columns (total 7 columns):\n",
      " #   Column      Non-Null Count  Dtype         \n",
      "---  ------      --------------  -----         \n",
      " 0   Name        100 non-null    object        \n",
      " 1   Age         100 non-null    float64       \n",
      " 2   Gender      86 non-null     object        \n",
      " 3   Email       100 non-null    object        \n",
      " 4   Join_Date   24 non-null     datetime64[ns]\n",
      " 5   Salary      60 non-null     float64       \n",
      " 6   Department  84 non-null     object        \n",
      "dtypes: datetime64[ns](1), float64(2), object(4)\n",
      "memory usage: 6.2+ KB\n"
     ]
    }
   ],
   "source": [
    "ds.info()"
   ]
  },
  {
   "cell_type": "code",
   "execution_count": 36,
   "id": "2ff55316-4c87-4045-9b53-b57f2d0e7e40",
   "metadata": {},
   "outputs": [
    {
     "data": {
      "text/plain": [
       "array(['Admin', 'Engineering', 'HR', 'Sales', nan, 'Marketing'],\n",
       "      dtype=object)"
      ]
     },
     "execution_count": 36,
     "metadata": {},
     "output_type": "execute_result"
    }
   ],
   "source": [
    "ds[\"Department\"].unique()"
   ]
  },
  {
   "cell_type": "code",
   "execution_count": 39,
   "id": "5d696dd0-93dd-4190-ad18-71121362406b",
   "metadata": {},
   "outputs": [
    {
     "name": "stderr",
     "output_type": "stream",
     "text": [
      "C:\\Users\\rutuj\\AppData\\Local\\Temp\\ipykernel_8540\\3159515147.py:4: FutureWarning: A value is trying to be set on a copy of a DataFrame or Series through chained assignment using an inplace method.\n",
      "The behavior will change in pandas 3.0. This inplace method will never work because the intermediate object on which we are setting values always behaves as a copy.\n",
      "\n",
      "For example, when doing 'df[col].method(value, inplace=True)', try using 'df.method({col: value}, inplace=True)' or df[col] = df[col].method(value) instead, to perform the operation inplace on the original object.\n",
      "\n",
      "\n",
      "  ds[\"Department\"].fillna(y,inplace=True)\n"
     ]
    }
   ],
   "source": [
    "# Handling missing values from department column\n",
    "\n",
    "y=ds[\"Department\"].mode()[0]\n",
    "ds[\"Department\"].fillna(y,inplace=True)"
   ]
  },
  {
   "cell_type": "code",
   "execution_count": 40,
   "id": "2defd321-3ecf-4eba-822b-7bbef69e55f3",
   "metadata": {},
   "outputs": [
    {
     "data": {
      "text/plain": [
       "array(['Admin', 'Engineering', 'HR', 'Sales', 'Marketing'], dtype=object)"
      ]
     },
     "execution_count": 40,
     "metadata": {},
     "output_type": "execute_result"
    }
   ],
   "source": [
    "ds[\"Department\"].unique()"
   ]
  },
  {
   "cell_type": "code",
   "execution_count": 41,
   "id": "e545159f-baaf-4875-b7de-9d9c43ddafbb",
   "metadata": {},
   "outputs": [],
   "source": [
    "#to save file\n",
    "ds.to_csv(\"cleaning_data.csv\")"
   ]
  },
  {
   "cell_type": "code",
   "execution_count": null,
   "id": "408a22f9-f5fa-478b-9a66-b5f060b98fd8",
   "metadata": {},
   "outputs": [],
   "source": []
  }
 ],
 "metadata": {
  "kernelspec": {
   "display_name": "Python [conda env:base] *",
   "language": "python",
   "name": "conda-base-py"
  },
  "language_info": {
   "codemirror_mode": {
    "name": "ipython",
    "version": 3
   },
   "file_extension": ".py",
   "mimetype": "text/x-python",
   "name": "python",
   "nbconvert_exporter": "python",
   "pygments_lexer": "ipython3",
   "version": "3.12.7"
  }
 },
 "nbformat": 4,
 "nbformat_minor": 5
}
