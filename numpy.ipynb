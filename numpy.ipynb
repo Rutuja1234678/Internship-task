{
 "cells": [
  {
   "cell_type": "code",
   "execution_count": 3,
   "id": "17c0585c-6198-4847-a973-5a9d42d66655",
   "metadata": {},
   "outputs": [
    {
     "name": "stdout",
     "output_type": "stream",
     "text": [
      "Requirement already satisfied: numpy in c:\\users\\rutuj\\anaconda3\\lib\\site-packages (1.26.4)\n"
     ]
    }
   ],
   "source": [
    "# numpy\n",
    "!pip install numpy"
   ]
  },
  {
   "cell_type": "code",
   "execution_count": 4,
   "id": "a918304b-fb9d-4119-ab67-69fab50390e8",
   "metadata": {},
   "outputs": [],
   "source": [
    "# import numpy\n",
    "import numpy as np"
   ]
  },
  {
   "cell_type": "code",
   "execution_count": 5,
   "id": "e1745e47-aecc-418b-92fe-95a989dcd867",
   "metadata": {},
   "outputs": [
    {
     "name": "stdout",
     "output_type": "stream",
     "text": [
      "1.26.4\n"
     ]
    }
   ],
   "source": [
    "# cheking version of numpy\n",
    "print(np.__version__)"
   ]
  },
  {
   "cell_type": "code",
   "execution_count": 6,
   "id": "f372a0bd-2878-4d80-b057-aae2b47ae4c4",
   "metadata": {},
   "outputs": [
    {
     "name": "stdout",
     "output_type": "stream",
     "text": [
      "[10 20 30 40 50 60]\n"
     ]
    }
   ],
   "source": [
    "#creating aaray\n",
    "arr=np.array([10,20,30,40,50,60])\n",
    "print(arr)"
   ]
  },
  {
   "cell_type": "code",
   "execution_count": 7,
   "id": "85b25645-7940-4b8c-b330-b316aed819e2",
   "metadata": {},
   "outputs": [
    {
     "name": "stdout",
     "output_type": "stream",
     "text": [
      "[1 2 3 4 5 6]\n",
      "<class 'numpy.ndarray'>\n"
     ]
    }
   ],
   "source": [
    "# cheking of array type\n",
    "arr=np.array([1,2,3,4,5,6])\n",
    "print(arr)\n",
    "print(type(arr))"
   ]
  },
  {
   "cell_type": "code",
   "execution_count": 8,
   "id": "c0558f26-e428-48ec-b22a-1aa426caa48e",
   "metadata": {},
   "outputs": [
    {
     "name": "stdout",
     "output_type": "stream",
     "text": [
      "[1 2 3 4 5 6]\n",
      "<class 'numpy.ndarray'>\n"
     ]
    }
   ],
   "source": [
    "# tuple to create numpy array\n",
    "arr=np.array((1,2,3,4,5,6))\n",
    "print(arr)\n",
    "print(type(arr))"
   ]
  },
  {
   "cell_type": "code",
   "execution_count": 9,
   "id": "6ba4b0f9-1a40-466d-b176-61793d84280e",
   "metadata": {},
   "outputs": [
    {
     "name": "stdout",
     "output_type": "stream",
     "text": [
      "12\n"
     ]
    }
   ],
   "source": [
    "# 0D Array\n",
    "arr=np.array(12)\n",
    "print(arr)"
   ]
  },
  {
   "cell_type": "code",
   "execution_count": 10,
   "id": "fb2740b5-5762-47f4-8a98-61f274728912",
   "metadata": {},
   "outputs": [
    {
     "name": "stdout",
     "output_type": "stream",
     "text": [
      "[1 2 3 4 5 6]\n"
     ]
    }
   ],
   "source": [
    "# 1D Array\n",
    "arr=np.array([1,2,3,4,5,6])\n",
    "print(arr)"
   ]
  },
  {
   "cell_type": "code",
   "execution_count": 11,
   "id": "179ae92f-f442-4eac-a753-8b9479732bc6",
   "metadata": {},
   "outputs": [
    {
     "name": "stdout",
     "output_type": "stream",
     "text": [
      "[[ 1  2  3  4  5]\n",
      " [60  7  8  9 10]]\n"
     ]
    }
   ],
   "source": [
    "# 2D Array\n",
    "arr=np.array([[1,2,3,4,5],[60,7,8,9,10]])\n",
    "print(arr)"
   ]
  },
  {
   "cell_type": "code",
   "execution_count": 12,
   "id": "79baf694-d1d4-4d47-b363-e9153ed595bb",
   "metadata": {},
   "outputs": [
    {
     "name": "stdout",
     "output_type": "stream",
     "text": [
      "[[[3 4 5]\n",
      "  [7 8 9]]\n",
      "\n",
      " [[1 2 3]\n",
      "  [4 5 6]]]\n"
     ]
    }
   ],
   "source": [
    "# 3D Array\n",
    "arr=np.array([[[3,4,5],[7,8,9]],[[1,2,3],[4,5,6]]])\n",
    "print(arr)"
   ]
  },
  {
   "cell_type": "code",
   "execution_count": 13,
   "id": "d7c6eb36-36c3-4e1e-965a-45b64c8b1a00",
   "metadata": {},
   "outputs": [
    {
     "name": "stdout",
     "output_type": "stream",
     "text": [
      "3\n"
     ]
    }
   ],
   "source": [
    "#cheak diamention of aaray\n",
    "arr=np.array([[[3,4,5],[7,8,9]],[[1,2,3],[4,5,6]]])\n",
    "print(arr.ndim)"
   ]
  },
  {
   "cell_type": "code",
   "execution_count": 14,
   "id": "6e138227-f4a6-4aea-9544-dbb356650d40",
   "metadata": {},
   "outputs": [
    {
     "name": "stdout",
     "output_type": "stream",
     "text": [
      "2\n"
     ]
    }
   ],
   "source": [
    "#acess elements from 1D\n",
    "arr=np.array([1,2,3,4,5,6])\n",
    "print(arr[1])"
   ]
  },
  {
   "cell_type": "code",
   "execution_count": 15,
   "id": "df0725bf-4289-44db-b8a5-52f88bb0308f",
   "metadata": {},
   "outputs": [
    {
     "name": "stdout",
     "output_type": "stream",
     "text": [
      "4\n"
     ]
    }
   ],
   "source": [
    "#acess elements from 2D\n",
    "arr=np.array([[1,2,3,4,5],[60,7,8,9,10]])\n",
    "print(arr[0,3])"
   ]
  },
  {
   "cell_type": "code",
   "execution_count": 16,
   "id": "af044bf0-d302-4401-b863-97fb9a842ada",
   "metadata": {},
   "outputs": [
    {
     "name": "stdout",
     "output_type": "stream",
     "text": [
      "4\n"
     ]
    }
   ],
   "source": [
    "# negative indexes acesss\n",
    "arr=np.array([[1,2,3,4,5],[60,7,8,9,10]])\n",
    "print(arr[0,-2])\n"
   ]
  },
  {
   "cell_type": "code",
   "execution_count": 35,
   "id": "42540feb-8048-47f6-b5b9-7111852f8de3",
   "metadata": {},
   "outputs": [
    {
     "name": "stdout",
     "output_type": "stream",
     "text": [
      "[4 8]\n"
     ]
    }
   ],
   "source": [
    "#array slicing\n",
    "arr=np.array([2,4,6,8])\n",
    "print(arr[arr%4==0])"
   ]
  },
  {
   "cell_type": "code",
   "execution_count": 18,
   "id": "c8b16645-2e3b-4bc9-866d-dd28658de3d9",
   "metadata": {},
   "outputs": [
    {
     "name": "stdout",
     "output_type": "stream",
     "text": [
      "[ 1  3  5  7  9 11]\n"
     ]
    }
   ],
   "source": [
    "#array slicing with step\n",
    "arr=np.array([1,2,3,4,5,6,7,8,9,10,11])\n",
    "print(arr[0:11:2])"
   ]
  },
  {
   "cell_type": "code",
   "execution_count": 36,
   "id": "eb23b5ac-5705-4c9b-8bc0-2add55327efe",
   "metadata": {},
   "outputs": [
    {
     "name": "stdout",
     "output_type": "stream",
     "text": [
      "[2 3]\n"
     ]
    }
   ],
   "source": [
    "#-ve index slicing\n",
    "arr=np.array([1,2,3,4,5,6,7,8,9,10,11])\n",
    "print(arr[1:3])"
   ]
  },
  {
   "cell_type": "code",
   "execution_count": 20,
   "id": "555eb833-c002-40db-8fc3-56c92fbcc3d8",
   "metadata": {},
   "outputs": [
    {
     "name": "stdout",
     "output_type": "stream",
     "text": [
      "int32\n"
     ]
    }
   ],
   "source": [
    "#cheching datatype array\n",
    "arr=np.array([1,2,3,4,5,6,7,8,9,10,11])\n",
    "print(arr.dtype)"
   ]
  },
  {
   "cell_type": "code",
   "execution_count": 21,
   "id": "1cf3cc35-b61b-4896-bc68-12141c39f6c9",
   "metadata": {},
   "outputs": [
    {
     "name": "stdout",
     "output_type": "stream",
     "text": [
      "(2, 5)\n"
     ]
    }
   ],
   "source": [
    "#cheching shape of array\n",
    "arr=np.array([[1,2,3,4,5],[60,7,8,9,10]])\n",
    "print(arr.shape)"
   ]
  },
  {
   "cell_type": "code",
   "execution_count": 22,
   "id": "d5d531be-bd10-4974-ad0a-46766802a418",
   "metadata": {},
   "outputs": [
    {
     "name": "stdout",
     "output_type": "stream",
     "text": [
      "10\n"
     ]
    }
   ],
   "source": [
    "#cheching size of elemnt\n",
    "arr=np.array([[1,2,3,4,5],[60,7,8,9,10]])\n",
    "print(arr.size)"
   ]
  },
  {
   "cell_type": "code",
   "execution_count": 23,
   "id": "470d5cb8-00ed-4260-bd44-4804d1254840",
   "metadata": {},
   "outputs": [
    {
     "name": "stdout",
     "output_type": "stream",
     "text": [
      "[['1' '2' '3' '4' '5']\n",
      " ['60' '7' '8' '9' '10']]\n"
     ]
    }
   ],
   "source": [
    "#convrsion of datatype\n",
    "arr=np.array([[1,2,3,4,5],[60,7,8,9,10]])\n",
    "print(arr.astype(str))"
   ]
  },
  {
   "cell_type": "code",
   "execution_count": 24,
   "id": "26350302-3fa5-42e6-a672-d42e9c4c2194",
   "metadata": {},
   "outputs": [
    {
     "name": "stdout",
     "output_type": "stream",
     "text": [
      "[[ 1  2  3]\n",
      " [ 4  5  6]\n",
      " [ 7  8  9]\n",
      " [10 11 12]]\n"
     ]
    }
   ],
   "source": [
    "#reshaping array\n",
    "arr=np.array([1,2,3,4,5,6,7,8,9,10,11,12])\n",
    "newarr=arr.reshape(4,3)\n",
    "print(newarr)"
   ]
  },
  {
   "cell_type": "code",
   "execution_count": 25,
   "id": "3b441f0c-21a0-4aa8-b36e-b1da3f62620a",
   "metadata": {},
   "outputs": [
    {
     "name": "stdout",
     "output_type": "stream",
     "text": [
      "1\n",
      "2\n",
      "3\n",
      "4\n",
      "5\n",
      "6\n"
     ]
    }
   ],
   "source": [
    "#Iterating array elements\n",
    "arr=np.array([1,2,3,4,5,6])\n",
    "for x in arr:\n",
    "    print(x)"
   ]
  },
  {
   "cell_type": "code",
   "execution_count": 26,
   "id": "b7805323-b466-4e30-94e2-ff080883f378",
   "metadata": {},
   "outputs": [
    {
     "name": "stdout",
     "output_type": "stream",
     "text": [
      "[1 2 3 4 5 6]\n"
     ]
    }
   ],
   "source": [
    "# joining array\n",
    "arr1=np.array([1,2,3])\n",
    "arr2=np.array([4,5,6])\n",
    "arr=np.concatenate((arr1,arr2))\n",
    "print(arr)\n"
   ]
  },
  {
   "cell_type": "code",
   "execution_count": 27,
   "id": "7c431185-100b-4da6-ba08-0e180ecf8572",
   "metadata": {},
   "outputs": [
    {
     "name": "stdout",
     "output_type": "stream",
     "text": [
      "[array([1, 2]), array([3, 4]), array([5, 6])]\n"
     ]
    }
   ],
   "source": [
    "#spliting of array\n",
    "arr=np.array([1,2,3,4,5,6])\n",
    "newarr=np.array_split(arr,3)\n",
    "print(newarr)\n",
    "\n"
   ]
  },
  {
   "cell_type": "code",
   "execution_count": 28,
   "id": "932edabd-4dbd-4688-86e9-4e9cb749a857",
   "metadata": {},
   "outputs": [
    {
     "name": "stdout",
     "output_type": "stream",
     "text": [
      "(array([3, 5, 6], dtype=int64),)\n"
     ]
    }
   ],
   "source": [
    "# searching of index of an element\n",
    "arr=np.array([1,2,3,4,5,4,4])\n",
    "x=np.where(arr==4)\n",
    "print(x)"
   ]
  },
  {
   "cell_type": "code",
   "execution_count": 29,
   "id": "82dbbc62-47a8-426e-8424-0797a2bf46e5",
   "metadata": {},
   "outputs": [
    {
     "name": "stdout",
     "output_type": "stream",
     "text": [
      "[ 1  2  3  4  5  6  7  8  9 10 11]\n",
      "[11 10  9  8  7  6  5  4  3  2  1]\n"
     ]
    }
   ],
   "source": [
    "#sorting of array\n",
    "#Ascending order\n",
    "arr=np.array([1,2,3,4,5,6,7,8,9,10,11])\n",
    "print(np.sort(arr))\n",
    "\n",
    "#descending order\n",
    "arr=np.array([1,2,3,4,5,6,7,8,9,10,11])\n",
    "print(np.sort(arr)[::-1])"
   ]
  },
  {
   "cell_type": "code",
   "execution_count": 30,
   "id": "976a4d63-b0bd-44fe-8f32-281fd0594b6a",
   "metadata": {},
   "outputs": [
    {
     "name": "stdout",
     "output_type": "stream",
     "text": [
      "[41 43]\n"
     ]
    }
   ],
   "source": [
    "#Filtering array elements\n",
    "\n",
    "arr=np.array([41,42,43,44])\n",
    "x=[True,False,True,False]\n",
    "newarr=arr[x]\n",
    "print(newarr)"
   ]
  },
  {
   "cell_type": "code",
   "execution_count": 31,
   "id": "9fb8c551-8964-4b72-957e-f8c74340aabb",
   "metadata": {},
   "outputs": [
    {
     "name": "stdout",
     "output_type": "stream",
     "text": [
      "[1 2 3 4 5 6 7 8]\n",
      "[ 1  2  3 56  4  5  6]\n",
      "[1 2 4 5 6]\n"
     ]
    }
   ],
   "source": [
    "#adding and removing element\n",
    "arr=np.array([1,2,3,4,5,6])\n",
    "\n",
    "#Append\n",
    "print(np.append(arr,[7,8]))\n",
    "\n",
    "#insert\n",
    "print(np.insert(arr,3,56))\n",
    "\n",
    "#delete\n",
    "print(np.delete(arr,[2]))\n"
   ]
  },
  {
   "cell_type": "code",
   "execution_count": 32,
   "id": "d312f062-8ff9-45f0-a825-913fe0fa3a7c",
   "metadata": {},
   "outputs": [
    {
     "name": "stdout",
     "output_type": "stream",
     "text": [
      "210\n",
      "10\n",
      "60\n",
      "[ 10  30  60 100 150 210]\n"
     ]
    }
   ],
   "source": [
    "#Aggrigate function\n",
    "a=np.array([10,20,30,40,50,60])\n",
    "\n",
    "#sum\n",
    "print(np.sum(a))\n",
    "\n",
    "#min\n",
    "print(np.min(a))\n",
    "\n",
    "#max\n",
    "print(np.max(a))\n",
    "\n",
    "#cumulative sum\n",
    "print(np.cumsum(a))"
   ]
  },
  {
   "cell_type": "code",
   "execution_count": 33,
   "id": "4a086638-8043-4b79-9d13-3249910cc460",
   "metadata": {},
   "outputs": [
    {
     "name": "stdout",
     "output_type": "stream",
     "text": [
      "32.5\n",
      "30.0\n",
      "20\n"
     ]
    }
   ],
   "source": [
    "#ststical function\n",
    "import statistics as stats\n",
    "food_prices=([10,20,30,40,50,60,20,30])\n",
    "a=np.array(food_prices)\n",
    "\n",
    "#mean\n",
    "print(np.mean(a))\n",
    "\n",
    "#median\n",
    "print(np.median(a))\n",
    "\n",
    "#mode\n",
    "print(stats.mode(a))"
   ]
  },
  {
   "cell_type": "code",
   "execution_count": 34,
   "id": "a9698d33-7e0e-4335-90dc-5477b47f3bef",
   "metadata": {},
   "outputs": [
    {
     "name": "stdout",
     "output_type": "stream",
     "text": [
      "[10 20 30]\n"
     ]
    }
   ],
   "source": [
    "arr=np.array([5,10,15])\n",
    "arr=arr*2\n",
    "print(arr)"
   ]
  },
  {
   "cell_type": "code",
   "execution_count": null,
   "id": "1553186c-62b1-451e-8e23-1baa62207357",
   "metadata": {},
   "outputs": [],
   "source": []
  }
 ],
 "metadata": {
  "kernelspec": {
   "display_name": "Python [conda env:base] *",
   "language": "python",
   "name": "conda-base-py"
  },
  "language_info": {
   "codemirror_mode": {
    "name": "ipython",
    "version": 3
   },
   "file_extension": ".py",
   "mimetype": "text/x-python",
   "name": "python",
   "nbconvert_exporter": "python",
   "pygments_lexer": "ipython3",
   "version": "3.12.7"
  }
 },
 "nbformat": 4,
 "nbformat_minor": 5
}
